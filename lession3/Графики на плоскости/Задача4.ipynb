{
 "cells": [
  {
   "cell_type": "markdown",
   "metadata": {},
   "source": [
    "### ЗАДАЧА 4.1\n",
    "Решите систему уравнений:<br>\n",
    "y = x2 – 1<br>\n",
    "exp(x) + x∙(1 – y) = 1"
   ]
  },
  {
   "cell_type": "code",
   "execution_count": 9,
   "metadata": {},
   "outputs": [],
   "source": [
    "%matplotlib inline\n",
    "import numpy as np\n",
    "import matplotlib.pyplot as plt\n",
    "from scipy.optimize import fsolve"
   ]
  },
  {
   "cell_type": "code",
   "execution_count": 22,
   "metadata": {},
   "outputs": [
    {
     "data": {
      "image/png": "[encoded data removed]",
      "text/plain": [
       "<Figure size 432x288 with 1 Axes>"
      ]
     },
     "metadata": {
      "needs_background": "light"
     },
     "output_type": "display_data"
    }
   ],
   "source": [
    "x = np.linspace(-3*np.pi, 3*np.pi, 201)\n",
    "y = np.linspace(-3*np.pi, 3*np.pi, 201)\n",
    "plt.plot(x, x**2 - 1 - y)\n",
    "plt.plot(x, np.exp(x)+x*(1-y)-1)\n",
    "plt.xlim(right=7.0)\n",
    "plt.ylim(top=10.0, bottom=-5.0)\n",
    "plt.grid(True)\n",
    "plt.show()"
   ]
  },
  {
   "cell_type": "code",
   "execution_count": 23,
   "metadata": {},
   "outputs": [
    {
     "name": "stdout",
     "output_type": "stream",
     "text": [
      "-8.12539509656948e-21 -1.0\n"
     ]
    }
   ],
   "source": [
    "def sistema1(p):\n",
    "    x, y = p\n",
    "    return (x**2 - 1 - y, np.exp(x)+x*(1-y)-1)\n",
    "\n",
    "x1, y1 = fsolve(sistema1, (0,0))\n",
    "print(x1, y1)"
   ]
  },
  {
   "cell_type": "markdown",
   "metadata": {},
   "source": [
    "### ЗАДАЧА 4.2\n",
    "Решите систему уравнений и неравенств:<br>\n",
    "y = x2 – 1<br>\n",
    "exp(x) + x∙(1 – y) > 1"
   ]
  },
  {
   "cell_type": "markdown",
   "metadata": {},
   "source": [
    "Приведем каждое уравнение так, чтобы в правой стороне остался только 0"
   ]
  },
  {
   "cell_type": "markdown",
   "metadata": {},
   "source": [
    "x2 – 1 - y = 0<br>\n",
    "exp(x) + x∙(1 – y) - 1 > 0"
   ]
  },
  {
   "cell_type": "markdown",
   "metadata": {},
   "source": [
    "Знак \"больше\" означает, что корень уравнения будет выше оси Х. Учтем это при подборе начального значения"
   ]
  },
  {
   "cell_type": "code",
   "execution_count": 31,
   "metadata": {},
   "outputs": [
    {
     "name": "stdout",
     "output_type": "stream",
     "text": [
      "4.200105841216806 16.64088907742353\n"
     ]
    }
   ],
   "source": [
    "def sistema2(p):\n",
    "    x, y = p\n",
    "    return (x**2 - 1 - y, np.exp(x)+x*(1-y)-1)\n",
    "\n",
    "x1, y1 = fsolve(sistema2, (50,50))\n",
    "print(x1, y1)"
   ]
  },
  {
   "cell_type": "markdown",
   "metadata": {},
   "source": [
    "Проверим данные корни:"
   ]
  },
  {
   "cell_type": "code",
   "execution_count": 34,
   "metadata": {},
   "outputs": [
    {
     "name": "stdout",
     "output_type": "stream",
     "text": [
      "3.552713678800501e-15 9.715677151689306e-10\n"
     ]
    }
   ],
   "source": [
    "a = x1**2 - 1 - y1\n",
    "b = np.exp(x1)+x1*(1-y1)-1\n",
    "print(a, b)"
   ]
  },
  {
   "cell_type": "markdown",
   "metadata": {},
   "source": [
    "Корни корректны"
   ]
  }
 ],
 "metadata": {
  "kernelspec": {
   "display_name": "Python 3",
   "language": "python",
   "name": "python3"
  },
  "language_info": {
   "codemirror_mode": {
    "name": "ipython",
    "version": 3
   },
   "file_extension": ".py",
   "mimetype": "text/x-python",
   "name": "python",
   "nbconvert_exporter": "python",
   "pygments_lexer": "ipython3",
   "version": "3.7.4"
  }
 },
 "nbformat": 4,
 "nbformat_minor": 2
}
